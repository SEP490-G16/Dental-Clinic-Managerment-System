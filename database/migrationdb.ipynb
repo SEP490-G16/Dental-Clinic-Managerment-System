{
 "cells": [
  {
   "cell_type": "code",
   "execution_count": 75,
   "metadata": {},
   "outputs": [],
   "source": [
    "import pandas as pd\n",
    "import numpy as np\n",
    "import io\n",
    "from datetime import datetime"
   ]
  },
  {
   "cell_type": "code",
   "execution_count": 148,
   "metadata": {},
   "outputs": [
    {
     "name": "stderr",
     "output_type": "stream",
     "text": [
      "C:\\Users\\TuanAnh\\AppData\\Local\\Temp\\ipykernel_2024\\3669950526.py:25: SettingWithCopyWarning: \n",
      "A value is trying to be set on a copy of a slice from a DataFrame.\n",
      "Try using .loc[row_indexer,col_indexer] = value instead\n",
      "\n",
      "See the caveats in the documentation: https://pandas.pydata.org/pandas-docs/stable/user_guide/indexing.html#returning-a-view-versus-a-copy\n",
      "  distinct_result['STT'] = pd.to_numeric(distinct_result['STT'], errors='coerce')\n"
     ]
    }
   ],
   "source": [
    "df = pd.read_excel('E:\\capstone-1\\Tổng hợp Bn Nha khoa Nguyễn Trần 6.1.23.xlsx', skiprows = 2)\n",
    "df = df.dropna(how='all')\n",
    "df_benhnhan = df[['STT','Họ tên','Mã BN', 'Năm sinh', 'Giới ', 'Địa chỉ', 'Điện thoại', 'Zalo', 'Ng', 'Th', 'N']]\n",
    "df_benhnhan = df_benhnhan.dropna(how='all')\n",
    "df_benhnhan['Họ tên'] = df['Họ tên'].str.strip()\n",
    "def custom_agg(group):\n",
    "    result = group.copy()\n",
    "    # Kiểm tra nếu \"dob\" và \"sđt\" có giá trị không phải NaN, lấy giá trị đầu tiên\n",
    "    if not group['Năm sinh'].isna().all():\n",
    "        result['Năm sinh'] = group['Năm sinh'].dropna().iloc[0]\n",
    "    if not group['Điện thoại'].isna().all():\n",
    "        result['Điện thoại'] = group['Điện thoại'].dropna().iloc[0]\n",
    "    if not group['Mã BN'].isna().all():\n",
    "        result['Mã BN'] = group['Mã BN'].dropna().iloc[0]\n",
    "    if not group['Giới '].isna().all():\n",
    "        result['Giới '] = group['Giới '].dropna().iloc[0]\n",
    "    if not group['Địa chỉ'].isna().all():\n",
    "        result['Địa chỉ'] = group['Địa chỉ'].dropna().iloc[0]\n",
    "    if not group['Zalo'].isna().all():\n",
    "        result['Zalo'] = group['Zalo'].dropna().iloc[0]\n",
    "    return result\n",
    "\n",
    "result = df_benhnhan.groupby('Họ tên').apply(custom_agg)\n",
    "distinct_result = result.drop_duplicates(subset='Họ tên')\n",
    "distinct_result['STT'] = pd.to_numeric(distinct_result['STT'], errors='coerce')\n",
    "distinct_result = distinct_result.sort_values(by='STT')\n",
    "\n",
    "distinct_result['Điện thoại'] = distinct_result['Điện thoại'].astype(str)\n",
    "distinct_result['Điện thoại'] = distinct_result['Điện thoại'].str.replace(r'\\D', '', regex=True)"
   ]
  },
  {
   "cell_type": "code",
   "execution_count": 149,
   "metadata": {},
   "outputs": [],
   "source": [
    "distinct_result['Năm sinh'].fillna('', inplace=True)\n",
    "# distinct_result['Giới '].fillna('', inplace=True)\n",
    "distinct_result['Giới '] = distinct_result['Giới '].fillna('')\n",
    "distinct_result['Điện thoại'].fillna('', inplace=True)\n",
    "distinct_result['Zalo'].fillna('', inplace=True)\n",
    "distinct_result['Địa chỉ'].fillna('', inplace=True)\n",
    "sql_queries = []\n",
    "\n",
    "def convert_to_datetime(x):\n",
    "    if isinstance(x, str):\n",
    "        if '/' in x:\n",
    "            date_parts = x.split('/')\n",
    "            if len(date_parts) == 3:\n",
    "                day, month, year = date_parts\n",
    "                return f\"{year}-{month}-{day} 00:00:00\"\n",
    "        try:\n",
    "            if len(x) == 4 and x.isdigit():\n",
    "                return f\"{x}-01-01 00:00:00\"\n",
    "            return pd.to_datetime(x).strftime('%Y-%m-%d %H:%M:%S')\n",
    "        except ValueError:\n",
    "            return x\n",
    "    elif isinstance(x, int):\n",
    "        x = str(x)\n",
    "        if len(x) == 6 and x.isdigit():\n",
    "            return [x[:2], x[2:4], f\"20{x[4:6]}\"]\n",
    "    elif not isinstance(x, pd.Timestamp):\n",
    "        try:\n",
    "            return pd.to_datetime(x).strftime('%Y-%m-%d %H:%M:%S')\n",
    "        except ValueError:\n",
    "            return x\n",
    "    return x\n",
    "\n",
    "\n",
    "distinct_result['Ngày Tạo Hồ Sơ'] = distinct_result.apply(lambda row: f\"20{row['N']}-{row['Th']}-{row['Ng']} 00:00:00\", axis=1)\n",
    "distinct_result['Ngày Tạo Hồ Sơ'] = distinct_result['Ngày Tạo Hồ Sơ'].str.replace(r'\\.\\d+', '', regex=True)\n",
    "\n",
    "# Bước 3: Chuyển đổi thành kiểu datetime\n",
    "distinct_result['Ngày Tạo Hồ Sơ'] = pd.to_datetime(distinct_result['Ngày Tạo Hồ Sơ'], format='%Y-%m-%d %H:%M:%S')\n",
    "\n",
    "distinct_result['Năm sinh'] = distinct_result['Năm sinh'].apply(convert_to_datetime)\n",
    "\n",
    "for index, row in distinct_result.iterrows():\n",
    "    sql = f\"INSERT INTO `patient` (`patient_name`, `date_of_birth`, `gender`, `sub_phone_number`, `phone_number`, `address`, `created_date`) VALUES ('{row['Họ tên']}', '{row['Năm sinh']}', {row['Giới ']}, '+84{row['Điện thoại']}', '{row['Zalo']}', '{row['Địa chỉ']}', '{row['Ngày Tạo Hồ Sơ']}');\"\n",
    "    sql_queries.append(sql)\n",
    "\n",
    "output_file = \"queries.txt\"\n",
    "\n",
    "# Mở tệp tin để ghi câu truy vấn SQL\n",
    "with io.open(output_file, \"w\", encoding=\"utf-8\") as file:\n",
    "    # Ghi các câu truy vấn vào tệp tin\n",
    "    for query in sql_queries:\n",
    "        file.write(query + \"\\n\")"
   ]
  },
  {
   "cell_type": "code",
   "execution_count": 71,
   "metadata": {},
   "outputs": [],
   "source": [
    "distinct_result.to_excel('ketqua.xlsx', index=False)"
   ]
  },
  {
   "cell_type": "code",
   "execution_count": 30,
   "metadata": {},
   "outputs": [
    {
     "name": "stdout",
     "output_type": "stream",
     "text": [
      "                    Họ tên       Mã BN             Năm sinh  Giới   \\\n",
      "0             Đỗ Minh Thuý   ĐMT030382  1982-03-03 00:00:00    1.0   \n",
      "1             Phan Đức Anh   PĐA210213           21/02/2013    2.0   \n",
      "4        Cao Thị Diễm Hồng  CTDH210458           21/04/1958    1.0   \n",
      "5             Trần Tuấn An   TTA230615           23/06/2015    2.0   \n",
      "6       Nguyễn Ngọc Trường   NNT100591  1991-10-05 00:00:00    2.0   \n",
      "...                    ...         ...                  ...    ...   \n",
      "11463         Thái Mai Anh   TMA300899  1999-08-30 00:00:00    1.0   \n",
      "11468      Đặng Ngọc Cương   ĐNC070886  1986-08-07 00:00:00    2.0   \n",
      "11476       Hoàng Kim Thủy   HKT280414  2014-04-28 00:00:00    1.0   \n",
      "11477  Nguyễn Thanh Trường   NTT260795  1995-07-26 00:00:00    2.0   \n",
      "11482         Ngô Thu Hằng   NTH140962  1962-09-14 00:00:00    1.0   \n",
      "\n",
      "                                          Địa chỉ  Điện thoại        Zalo  \n",
      "0       Số 118 Đường Hoàng Công Chắt, Bắc Từ Liêm  0965069966         NaN  \n",
      "1                                 Dương Quảng Hàm  0843105678         NaN  \n",
      "4                                      Đường 800A  0352035375         NaN  \n",
      "5                                       Hoàng Sâm  0832279879         NaN  \n",
      "6                               Nhà 33B Ngõ 61pck  0346474491         NaN  \n",
      "...                                           ...         ...         ...  \n",
      "11463                                         PCK  0982066403  0982066403  \n",
      "11468  21/48/20 Phúc Minh, Phúc Diễn, Bắc từ liêm  0396996964  0396996964  \n",
      "11476                     9C 142 Nguyễn Đình Hoàn  0976957034  0976957034  \n",
      "11477                                       7 PCK  0812821995  0812821995  \n",
      "11482                           Nghĩa Đô Cầu Giấy  0783161890  0783161890  \n",
      "\n",
      "[2684 rows x 7 columns]\n"
     ]
    }
   ],
   "source": [
    "df_benhnhan_distinc = df_benhnhan.drop_duplicates(subset='Họ tên')\n",
    "\n",
    "print(df_benhnhan_distinc)"
   ]
  },
  {
   "cell_type": "code",
   "execution_count": 27,
   "metadata": {},
   "outputs": [
    {
     "ename": "TypeError",
     "evalue": "unsupported operand type(s) for +: 'float' and 'str'",
     "output_type": "error",
     "traceback": [
      "\u001b[1;31m---------------------------------------------------------------------------\u001b[0m",
      "\u001b[1;31mTypeError\u001b[0m                                 Traceback (most recent call last)",
      "Cell \u001b[1;32mIn[27], line 1\u001b[0m\n\u001b[1;32m----> 1\u001b[0m \u001b[38;5;28mprint\u001b[39m(\u001b[43mdf_benhnhan_groupName\u001b[49m\u001b[43m[\u001b[49m\u001b[38;5;124;43m'\u001b[39;49m\u001b[38;5;124;43mMã BN\u001b[39;49m\u001b[38;5;124;43m'\u001b[39;49m\u001b[43m]\u001b[49m\u001b[38;5;241;43m.\u001b[39;49m\u001b[43msum\u001b[49m\u001b[43m(\u001b[49m\u001b[43m)\u001b[49m)\n",
      "File \u001b[1;32mc:\\Users\\TuanAnh\\AppData\\Local\\Programs\\Python\\Python310\\lib\\site-packages\\pandas\\core\\groupby\\groupby.py:1849\u001b[0m, in \u001b[0;36mGroupBy.sum\u001b[1;34m(self, numeric_only, min_count)\u001b[0m\n\u001b[0;32m   1845\u001b[0m \u001b[38;5;66;03m# If we are grouping on categoricals we want unobserved categories to\u001b[39;00m\n\u001b[0;32m   1846\u001b[0m \u001b[38;5;66;03m# return zero, rather than the default of NaN which the reindexing in\u001b[39;00m\n\u001b[0;32m   1847\u001b[0m \u001b[38;5;66;03m# _agg_general() returns. GH #31422\u001b[39;00m\n\u001b[0;32m   1848\u001b[0m \u001b[38;5;28;01mwith\u001b[39;00m com\u001b[38;5;241m.\u001b[39mtemp_setattr(\u001b[38;5;28mself\u001b[39m, \u001b[38;5;124m\"\u001b[39m\u001b[38;5;124mobserved\u001b[39m\u001b[38;5;124m\"\u001b[39m, \u001b[38;5;28;01mTrue\u001b[39;00m):\n\u001b[1;32m-> 1849\u001b[0m     result \u001b[38;5;241m=\u001b[39m \u001b[38;5;28;43mself\u001b[39;49m\u001b[38;5;241;43m.\u001b[39;49m\u001b[43m_agg_general\u001b[49m\u001b[43m(\u001b[49m\n\u001b[0;32m   1850\u001b[0m \u001b[43m        \u001b[49m\u001b[43mnumeric_only\u001b[49m\u001b[38;5;241;43m=\u001b[39;49m\u001b[43mnumeric_only\u001b[49m\u001b[43m,\u001b[49m\n\u001b[0;32m   1851\u001b[0m \u001b[43m        \u001b[49m\u001b[43mmin_count\u001b[49m\u001b[38;5;241;43m=\u001b[39;49m\u001b[43mmin_count\u001b[49m\u001b[43m,\u001b[49m\n\u001b[0;32m   1852\u001b[0m \u001b[43m        \u001b[49m\u001b[43malias\u001b[49m\u001b[38;5;241;43m=\u001b[39;49m\u001b[38;5;124;43m\"\u001b[39;49m\u001b[38;5;124;43madd\u001b[39;49m\u001b[38;5;124;43m\"\u001b[39;49m\u001b[43m,\u001b[49m\n\u001b[0;32m   1853\u001b[0m \u001b[43m        \u001b[49m\u001b[43mnpfunc\u001b[49m\u001b[38;5;241;43m=\u001b[39;49m\u001b[43mnp\u001b[49m\u001b[38;5;241;43m.\u001b[39;49m\u001b[43msum\u001b[49m\u001b[43m,\u001b[49m\n\u001b[0;32m   1854\u001b[0m \u001b[43m    \u001b[49m\u001b[43m)\u001b[49m\n\u001b[0;32m   1856\u001b[0m \u001b[38;5;28;01mreturn\u001b[39;00m \u001b[38;5;28mself\u001b[39m\u001b[38;5;241m.\u001b[39m_reindex_output(result, fill_value\u001b[38;5;241m=\u001b[39m\u001b[38;5;241m0\u001b[39m)\n",
      "File \u001b[1;32mc:\\Users\\TuanAnh\\AppData\\Local\\Programs\\Python\\Python310\\lib\\site-packages\\pandas\\core\\groupby\\groupby.py:1364\u001b[0m, in \u001b[0;36mGroupBy._agg_general\u001b[1;34m(self, numeric_only, min_count, alias, npfunc)\u001b[0m\n\u001b[0;32m   1352\u001b[0m \u001b[38;5;129m@final\u001b[39m\n\u001b[0;32m   1353\u001b[0m \u001b[38;5;28;01mdef\u001b[39;00m \u001b[38;5;21m_agg_general\u001b[39m(\n\u001b[0;32m   1354\u001b[0m     \u001b[38;5;28mself\u001b[39m,\n\u001b[1;32m   (...)\u001b[0m\n\u001b[0;32m   1359\u001b[0m     npfunc: Callable,\n\u001b[0;32m   1360\u001b[0m ):\n\u001b[0;32m   1362\u001b[0m     \u001b[38;5;28;01mwith\u001b[39;00m group_selection_context(\u001b[38;5;28mself\u001b[39m):\n\u001b[0;32m   1363\u001b[0m         \u001b[38;5;66;03m# try a cython aggregation if we can\u001b[39;00m\n\u001b[1;32m-> 1364\u001b[0m         result \u001b[38;5;241m=\u001b[39m \u001b[38;5;28;43mself\u001b[39;49m\u001b[38;5;241;43m.\u001b[39;49m\u001b[43m_cython_agg_general\u001b[49m\u001b[43m(\u001b[49m\n\u001b[0;32m   1365\u001b[0m \u001b[43m            \u001b[49m\u001b[43mhow\u001b[49m\u001b[38;5;241;43m=\u001b[39;49m\u001b[43malias\u001b[49m\u001b[43m,\u001b[49m\n\u001b[0;32m   1366\u001b[0m \u001b[43m            \u001b[49m\u001b[43malt\u001b[49m\u001b[38;5;241;43m=\u001b[39;49m\u001b[43mnpfunc\u001b[49m\u001b[43m,\u001b[49m\n\u001b[0;32m   1367\u001b[0m \u001b[43m            \u001b[49m\u001b[43mnumeric_only\u001b[49m\u001b[38;5;241;43m=\u001b[39;49m\u001b[43mnumeric_only\u001b[49m\u001b[43m,\u001b[49m\n\u001b[0;32m   1368\u001b[0m \u001b[43m            \u001b[49m\u001b[43mmin_count\u001b[49m\u001b[38;5;241;43m=\u001b[39;49m\u001b[43mmin_count\u001b[49m\u001b[43m,\u001b[49m\n\u001b[0;32m   1369\u001b[0m \u001b[43m        \u001b[49m\u001b[43m)\u001b[49m\n\u001b[0;32m   1370\u001b[0m         \u001b[38;5;28;01mreturn\u001b[39;00m result\u001b[38;5;241m.\u001b[39m__finalize__(\u001b[38;5;28mself\u001b[39m\u001b[38;5;241m.\u001b[39mobj, method\u001b[38;5;241m=\u001b[39m\u001b[38;5;124m\"\u001b[39m\u001b[38;5;124mgroupby\u001b[39m\u001b[38;5;124m\"\u001b[39m)\n",
      "File \u001b[1;32mc:\\Users\\TuanAnh\\AppData\\Local\\Programs\\Python\\Python310\\lib\\site-packages\\pandas\\core\\groupby\\generic.py:352\u001b[0m, in \u001b[0;36mSeriesGroupBy._cython_agg_general\u001b[1;34m(self, how, alt, numeric_only, min_count)\u001b[0m\n\u001b[0;32m    348\u001b[0m         result \u001b[38;5;241m=\u001b[39m \u001b[38;5;28mself\u001b[39m\u001b[38;5;241m.\u001b[39m_agg_py_fallback(values, ndim\u001b[38;5;241m=\u001b[39mdata\u001b[38;5;241m.\u001b[39mndim, alt\u001b[38;5;241m=\u001b[39malt)\n\u001b[0;32m    350\u001b[0m     \u001b[38;5;28;01mreturn\u001b[39;00m result\n\u001b[1;32m--> 352\u001b[0m result \u001b[38;5;241m=\u001b[39m \u001b[43marray_func\u001b[49m\u001b[43m(\u001b[49m\u001b[43mobjvals\u001b[49m\u001b[43m)\u001b[49m\n\u001b[0;32m    354\u001b[0m ser \u001b[38;5;241m=\u001b[39m \u001b[38;5;28mself\u001b[39m\u001b[38;5;241m.\u001b[39mobj\u001b[38;5;241m.\u001b[39m_constructor(\n\u001b[0;32m    355\u001b[0m     result, index\u001b[38;5;241m=\u001b[39m\u001b[38;5;28mself\u001b[39m\u001b[38;5;241m.\u001b[39mgrouper\u001b[38;5;241m.\u001b[39mresult_index, name\u001b[38;5;241m=\u001b[39mobj\u001b[38;5;241m.\u001b[39mname\n\u001b[0;32m    356\u001b[0m )\n\u001b[0;32m    357\u001b[0m \u001b[38;5;28;01mreturn\u001b[39;00m \u001b[38;5;28mself\u001b[39m\u001b[38;5;241m.\u001b[39m_reindex_output(ser)\n",
      "File \u001b[1;32mc:\\Users\\TuanAnh\\AppData\\Local\\Programs\\Python\\Python310\\lib\\site-packages\\pandas\\core\\groupby\\generic.py:340\u001b[0m, in \u001b[0;36mSeriesGroupBy._cython_agg_general.<locals>.array_func\u001b[1;34m(values)\u001b[0m\n\u001b[0;32m    338\u001b[0m \u001b[38;5;28;01mdef\u001b[39;00m \u001b[38;5;21marray_func\u001b[39m(values: ArrayLike) \u001b[38;5;241m-\u001b[39m\u001b[38;5;241m>\u001b[39m ArrayLike:\n\u001b[0;32m    339\u001b[0m     \u001b[38;5;28;01mtry\u001b[39;00m:\n\u001b[1;32m--> 340\u001b[0m         result \u001b[38;5;241m=\u001b[39m \u001b[38;5;28;43mself\u001b[39;49m\u001b[38;5;241;43m.\u001b[39;49m\u001b[43mgrouper\u001b[49m\u001b[38;5;241;43m.\u001b[39;49m\u001b[43m_cython_operation\u001b[49m\u001b[43m(\u001b[49m\n\u001b[0;32m    341\u001b[0m \u001b[43m            \u001b[49m\u001b[38;5;124;43m\"\u001b[39;49m\u001b[38;5;124;43maggregate\u001b[39;49m\u001b[38;5;124;43m\"\u001b[39;49m\u001b[43m,\u001b[49m\u001b[43m \u001b[49m\u001b[43mvalues\u001b[49m\u001b[43m,\u001b[49m\u001b[43m \u001b[49m\u001b[43mhow\u001b[49m\u001b[43m,\u001b[49m\u001b[43m \u001b[49m\u001b[43maxis\u001b[49m\u001b[38;5;241;43m=\u001b[39;49m\u001b[43mdata\u001b[49m\u001b[38;5;241;43m.\u001b[39;49m\u001b[43mndim\u001b[49m\u001b[43m \u001b[49m\u001b[38;5;241;43m-\u001b[39;49m\u001b[43m \u001b[49m\u001b[38;5;241;43m1\u001b[39;49m\u001b[43m,\u001b[49m\u001b[43m \u001b[49m\u001b[43mmin_count\u001b[49m\u001b[38;5;241;43m=\u001b[39;49m\u001b[43mmin_count\u001b[49m\n\u001b[0;32m    342\u001b[0m \u001b[43m        \u001b[49m\u001b[43m)\u001b[49m\n\u001b[0;32m    343\u001b[0m     \u001b[38;5;28;01mexcept\u001b[39;00m \u001b[38;5;167;01mNotImplementedError\u001b[39;00m:\n\u001b[0;32m    344\u001b[0m         \u001b[38;5;66;03m# generally if we have numeric_only=False\u001b[39;00m\n\u001b[0;32m    345\u001b[0m         \u001b[38;5;66;03m# and non-applicable functions\u001b[39;00m\n\u001b[0;32m    346\u001b[0m         \u001b[38;5;66;03m# try to python agg\u001b[39;00m\n\u001b[0;32m    347\u001b[0m         \u001b[38;5;66;03m# TODO: shouldn't min_count matter?\u001b[39;00m\n\u001b[0;32m    348\u001b[0m         result \u001b[38;5;241m=\u001b[39m \u001b[38;5;28mself\u001b[39m\u001b[38;5;241m.\u001b[39m_agg_py_fallback(values, ndim\u001b[38;5;241m=\u001b[39mdata\u001b[38;5;241m.\u001b[39mndim, alt\u001b[38;5;241m=\u001b[39malt)\n",
      "File \u001b[1;32mc:\\Users\\TuanAnh\\AppData\\Local\\Programs\\Python\\Python310\\lib\\site-packages\\pandas\\core\\groupby\\ops.py:1010\u001b[0m, in \u001b[0;36mBaseGrouper._cython_operation\u001b[1;34m(self, kind, values, how, axis, min_count, **kwargs)\u001b[0m\n\u001b[0;32m   1008\u001b[0m ids, _, _ \u001b[38;5;241m=\u001b[39m \u001b[38;5;28mself\u001b[39m\u001b[38;5;241m.\u001b[39mgroup_info\n\u001b[0;32m   1009\u001b[0m ngroups \u001b[38;5;241m=\u001b[39m \u001b[38;5;28mself\u001b[39m\u001b[38;5;241m.\u001b[39mngroups\n\u001b[1;32m-> 1010\u001b[0m \u001b[38;5;28;01mreturn\u001b[39;00m cy_op\u001b[38;5;241m.\u001b[39mcython_operation(\n\u001b[0;32m   1011\u001b[0m     values\u001b[38;5;241m=\u001b[39mvalues,\n\u001b[0;32m   1012\u001b[0m     axis\u001b[38;5;241m=\u001b[39maxis,\n\u001b[0;32m   1013\u001b[0m     min_count\u001b[38;5;241m=\u001b[39mmin_count,\n\u001b[0;32m   1014\u001b[0m     comp_ids\u001b[38;5;241m=\u001b[39mids,\n\u001b[0;32m   1015\u001b[0m     ngroups\u001b[38;5;241m=\u001b[39mngroups,\n\u001b[0;32m   1016\u001b[0m     \u001b[38;5;241m*\u001b[39m\u001b[38;5;241m*\u001b[39mkwargs,\n\u001b[0;32m   1017\u001b[0m )\n",
      "File \u001b[1;32mc:\\Users\\TuanAnh\\AppData\\Local\\Programs\\Python\\Python310\\lib\\site-packages\\pandas\\core\\groupby\\ops.py:671\u001b[0m, in \u001b[0;36mWrappedCythonOp.cython_operation\u001b[1;34m(self, values, axis, min_count, comp_ids, ngroups, **kwargs)\u001b[0m\n\u001b[0;32m    661\u001b[0m \u001b[38;5;28;01mif\u001b[39;00m \u001b[38;5;129;01mnot\u001b[39;00m \u001b[38;5;28misinstance\u001b[39m(values, np\u001b[38;5;241m.\u001b[39mndarray):\n\u001b[0;32m    662\u001b[0m     \u001b[38;5;66;03m# i.e. ExtensionArray\u001b[39;00m\n\u001b[0;32m    663\u001b[0m     \u001b[38;5;28;01mreturn\u001b[39;00m \u001b[38;5;28mself\u001b[39m\u001b[38;5;241m.\u001b[39m_ea_wrap_cython_operation(\n\u001b[0;32m    664\u001b[0m         values,\n\u001b[0;32m    665\u001b[0m         min_count\u001b[38;5;241m=\u001b[39mmin_count,\n\u001b[1;32m   (...)\u001b[0m\n\u001b[0;32m    668\u001b[0m         \u001b[38;5;241m*\u001b[39m\u001b[38;5;241m*\u001b[39mkwargs,\n\u001b[0;32m    669\u001b[0m     )\n\u001b[1;32m--> 671\u001b[0m \u001b[38;5;28;01mreturn\u001b[39;00m \u001b[38;5;28mself\u001b[39m\u001b[38;5;241m.\u001b[39m_cython_op_ndim_compat(\n\u001b[0;32m    672\u001b[0m     values,\n\u001b[0;32m    673\u001b[0m     min_count\u001b[38;5;241m=\u001b[39mmin_count,\n\u001b[0;32m    674\u001b[0m     ngroups\u001b[38;5;241m=\u001b[39mngroups,\n\u001b[0;32m    675\u001b[0m     comp_ids\u001b[38;5;241m=\u001b[39mcomp_ids,\n\u001b[0;32m    676\u001b[0m     mask\u001b[38;5;241m=\u001b[39m\u001b[38;5;28;01mNone\u001b[39;00m,\n\u001b[0;32m    677\u001b[0m     \u001b[38;5;241m*\u001b[39m\u001b[38;5;241m*\u001b[39mkwargs,\n\u001b[0;32m    678\u001b[0m )\n",
      "File \u001b[1;32mc:\\Users\\TuanAnh\\AppData\\Local\\Programs\\Python\\Python310\\lib\\site-packages\\pandas\\core\\groupby\\ops.py:502\u001b[0m, in \u001b[0;36mWrappedCythonOp._cython_op_ndim_compat\u001b[1;34m(self, values, min_count, ngroups, comp_ids, mask, **kwargs)\u001b[0m\n\u001b[0;32m    499\u001b[0m \u001b[38;5;28;01mif\u001b[39;00m values\u001b[38;5;241m.\u001b[39mndim \u001b[38;5;241m==\u001b[39m \u001b[38;5;241m1\u001b[39m:\n\u001b[0;32m    500\u001b[0m     \u001b[38;5;66;03m# expand to 2d, dispatch, then squeeze if appropriate\u001b[39;00m\n\u001b[0;32m    501\u001b[0m     values2d \u001b[38;5;241m=\u001b[39m values[\u001b[38;5;28;01mNone\u001b[39;00m, :]\n\u001b[1;32m--> 502\u001b[0m     res \u001b[38;5;241m=\u001b[39m \u001b[38;5;28mself\u001b[39m\u001b[38;5;241m.\u001b[39m_call_cython_op(\n\u001b[0;32m    503\u001b[0m         values2d,\n\u001b[0;32m    504\u001b[0m         min_count\u001b[38;5;241m=\u001b[39mmin_count,\n\u001b[0;32m    505\u001b[0m         ngroups\u001b[38;5;241m=\u001b[39mngroups,\n\u001b[0;32m    506\u001b[0m         comp_ids\u001b[38;5;241m=\u001b[39mcomp_ids,\n\u001b[0;32m    507\u001b[0m         mask\u001b[38;5;241m=\u001b[39mmask,\n\u001b[0;32m    508\u001b[0m         \u001b[38;5;241m*\u001b[39m\u001b[38;5;241m*\u001b[39mkwargs,\n\u001b[0;32m    509\u001b[0m     )\n\u001b[0;32m    510\u001b[0m     \u001b[38;5;28;01mif\u001b[39;00m res\u001b[38;5;241m.\u001b[39mshape[\u001b[38;5;241m0\u001b[39m] \u001b[38;5;241m==\u001b[39m \u001b[38;5;241m1\u001b[39m:\n\u001b[0;32m    511\u001b[0m         \u001b[38;5;28;01mreturn\u001b[39;00m res[\u001b[38;5;241m0\u001b[39m]\n",
      "File \u001b[1;32mc:\\Users\\TuanAnh\\AppData\\Local\\Programs\\Python\\Python310\\lib\\site-packages\\pandas\\core\\groupby\\ops.py:580\u001b[0m, in \u001b[0;36mWrappedCythonOp._call_cython_op\u001b[1;34m(self, values, min_count, ngroups, comp_ids, mask, **kwargs)\u001b[0m\n\u001b[0;32m    570\u001b[0m     func(\n\u001b[0;32m    571\u001b[0m         result,\n\u001b[0;32m    572\u001b[0m         counts,\n\u001b[1;32m   (...)\u001b[0m\n\u001b[0;32m    576\u001b[0m         is_datetimelike\u001b[38;5;241m=\u001b[39mis_datetimelike,\n\u001b[0;32m    577\u001b[0m     )\n\u001b[0;32m    578\u001b[0m \u001b[38;5;28;01melif\u001b[39;00m \u001b[38;5;28mself\u001b[39m\u001b[38;5;241m.\u001b[39mhow \u001b[38;5;129;01min\u001b[39;00m [\u001b[38;5;124m\"\u001b[39m\u001b[38;5;124madd\u001b[39m\u001b[38;5;124m\"\u001b[39m]:\n\u001b[0;32m    579\u001b[0m     \u001b[38;5;66;03m# We support datetimelike\u001b[39;00m\n\u001b[1;32m--> 580\u001b[0m     \u001b[43mfunc\u001b[49m\u001b[43m(\u001b[49m\n\u001b[0;32m    581\u001b[0m \u001b[43m        \u001b[49m\u001b[43mresult\u001b[49m\u001b[43m,\u001b[49m\n\u001b[0;32m    582\u001b[0m \u001b[43m        \u001b[49m\u001b[43mcounts\u001b[49m\u001b[43m,\u001b[49m\n\u001b[0;32m    583\u001b[0m \u001b[43m        \u001b[49m\u001b[43mvalues\u001b[49m\u001b[43m,\u001b[49m\n\u001b[0;32m    584\u001b[0m \u001b[43m        \u001b[49m\u001b[43mcomp_ids\u001b[49m\u001b[43m,\u001b[49m\n\u001b[0;32m    585\u001b[0m \u001b[43m        \u001b[49m\u001b[43mmin_count\u001b[49m\u001b[43m,\u001b[49m\n\u001b[0;32m    586\u001b[0m \u001b[43m        \u001b[49m\u001b[43mdatetimelike\u001b[49m\u001b[38;5;241;43m=\u001b[39;49m\u001b[43mis_datetimelike\u001b[49m\u001b[43m,\u001b[49m\n\u001b[0;32m    587\u001b[0m \u001b[43m    \u001b[49m\u001b[43m)\u001b[49m\n\u001b[0;32m    588\u001b[0m \u001b[38;5;28;01melse\u001b[39;00m:\n\u001b[0;32m    589\u001b[0m     func(result, counts, values, comp_ids, min_count)\n",
      "File \u001b[1;32mc:\\Users\\TuanAnh\\AppData\\Local\\Programs\\Python\\Python310\\lib\\site-packages\\pandas\\_libs\\groupby.pyx:528\u001b[0m, in \u001b[0;36mpandas._libs.groupby.group_add\u001b[1;34m()\u001b[0m\n",
      "\u001b[1;31mTypeError\u001b[0m: unsupported operand type(s) for +: 'float' and 'str'"
     ]
    }
   ],
   "source": [
    "print(df_benhnhan_groupName['Mã BN'].sum())"
   ]
  },
  {
   "cell_type": "code",
   "execution_count": 23,
   "metadata": {},
   "outputs": [
    {
     "name": "stdout",
     "output_type": "stream",
     "text": [
      "1\n"
     ]
    }
   ],
   "source": [
    "print(df_benhnhan['Họ tên'].isna().sum())"
   ]
  }
 ],
 "metadata": {
  "kernelspec": {
   "display_name": "Python 3",
   "language": "python",
   "name": "python3"
  },
  "language_info": {
   "codemirror_mode": {
    "name": "ipython",
    "version": 3
   },
   "file_extension": ".py",
   "mimetype": "text/x-python",
   "name": "python",
   "nbconvert_exporter": "python",
   "pygments_lexer": "ipython3",
   "version": "3.10.0"
  }
 },
 "nbformat": 4,
 "nbformat_minor": 2
}
